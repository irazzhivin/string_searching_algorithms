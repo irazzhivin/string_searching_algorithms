{
 "cells": [
  {
   "cell_type": "markdown",
   "metadata": {},
   "source": [
    "String-searching algorithms realization by Ivan Razzhivin:\n",
    "1. Boyer-Moore-Horspool; \n",
    "2. Karp–Rabin; \n",
    "3. Knuth–Morris–Pratt; \n",
    "4. Aho–Corasick;\n",
    "5. Naive Pattern Searching;"
   ]
  },
  {
   "cell_type": "markdown",
   "metadata": {},
   "source": [
    "# Module import & data load"
   ]
  },
  {
   "cell_type": "code",
   "execution_count": 30,
   "metadata": {},
   "outputs": [],
   "source": [
    "import time\n",
    "import random\n",
    "algorithms = [kmp, naive, ac, bmh, rk]"
   ]
  },
  {
   "cell_type": "code",
   "execution_count": 32,
   "metadata": {},
   "outputs": [],
   "source": [
    "bad_w = []\n",
    "bad_t = []\n",
    "good_w = []\n",
    "good_t = []\n",
    "for i in range(1,5):\n",
    "    f = open('benchmarks/bad_w_' + str(i) + '.txt', encoding='utf-8')\n",
    "    bad_w.append(f.read())\n",
    "    f.close()\n",
    "    f = open('benchmarks/bad_t_' + str(i) + '.txt', encoding='utf-8')\n",
    "    bad_t.append(f.read())\n",
    "    f.close()\n",
    "    f = open('benchmarks/good_w_' + str(i) + '.txt', encoding='utf-8')\n",
    "    good_w.append(f.read())\n",
    "    f.close()\n",
    "    f = open('benchmarks/good_t_' + str(i) + '.txt', encoding='utf-8')\n",
    "    good_t.append(f.read())\n",
    "    f.close()"
   ]
  },
  {
   "cell_type": "markdown",
   "metadata": {},
   "source": [
    "# Algos initialization "
   ]
  },
  {
   "cell_type": "code",
   "execution_count": 34,
   "metadata": {},
   "outputs": [],
   "source": [
    "\n",
    "from boyer import boyer_moore_horspool as bmh\n",
    "from rabin_karp import rabin_karp as rk\n",
    "from k_morris import knuth_morris_pratt as kmp\n",
    "from aho import aho_corasick as ac\n",
    "from naive import naive\n"
   ]
  },
  {
   "cell_type": "markdown",
   "metadata": {},
   "source": [
    "# Runtime results"
   ]
  },
  {
   "cell_type": "code",
   "execution_count": 36,
   "metadata": {},
   "outputs": [],
   "source": [
    "def check_time(f, *args):\n",
    "    start = time.time()\n",
    "    f(*args)\n",
    "    return time.time() - start"
   ]
  },
  {
   "cell_type": "code",
   "execution_count": 38,
   "metadata": {
    "tags": []
   },
   "outputs": [
    {
     "name": "stdout",
     "output_type": "stream",
     "text": [
      "knuth_morris_pratt\n",
      "Test N 1 time: 0.0001096788341332508\n",
      "Test N 2 time: 0.0001233411376914098\n",
      "Test N 3 time: 0.000689840316772461\n",
      "Test N 4 time: 0.003001117706298828\n",
      "Test N 5 time: 0.000263524055480957\n",
      "Test N 6 time: 0.0005009174346923828\n",
      "Test N 7 time: 0.0013851165771484376\n",
      "Test N 8 time: 0.004727649688720703\n",
      "\n",
      "naive\n",
      "Test N 1 time: 0.0\n",
      "Test N 2 time: 0.00023691654205322267\n",
      "Test N 3 time: 0.027048659324645997\n",
      "Test N 4 time: 1.465348482131958\n",
      "Test N 5 time: 0.0002749919891357422\n",
      "Test N 6 time: 0.00045857429504394533\n",
      "Test N 7 time: 0.002371811866760254\n",
      "Test N 8 time: 0.004924201965332031\n",
      "\n",
      "aho_corasick\n",
      "Test N 1 time: 0.00010758666992191723\n",
      "Test N 2 time: 0.00023496150970458984\n",
      "Test N 3 time: 0.005228185653686523\n",
      "Test N 4 time: 0.30330030918121337\n",
      "Test N 5 time: 0.000731205940246582\n",
      "Test N 6 time: 0.004023432731628418\n",
      "Test N 7 time: 0.055155277252197266\n",
      "Test N 8 time: 0.010457134246826172\n",
      "\n",
      "boyer_moore_horspool\n",
      "Test N 1 time: 0.0\n",
      "Test N 2 time: 0.000194741821289113426\n",
      "Test N 3 time: 0.00048720836639404297\n",
      "Test N 4 time: 0.0026867866516113283\n",
      "Test N 5 time: 0.000299945068359423451\n",
      "Test N 6 time: 6.0510635375976565e-05\n",
      "Test N 7 time: 0.00019390583038330077\n",
      "Test N 8 time: 0.00036027431488037107\n",
      "\n",
      "rabin_karp\n",
      "Test N 1 time: 0.0\n",
      "Test N 2 time: 0.000101766967773456251\n",
      "Test N 3 time: 0.00045900344848632814\n",
      "Test N 4 time: 0.0024184942245483398\n",
      "Test N 5 time: 0.00037424564361572267\n",
      "Test N 6 time: 0.0006479978561401367\n",
      "Test N 7 time: 0.0032538175582885742\n",
      "Test N 8 time: 0.007049036026000976\n",
      "\n"
     ]
    }
   ],
   "source": [
    "mas_text = bad_t + good_t\n",
    "mas_pat = bad_w + good_w\n",
    "for a in algorithms:\n",
    "    print(a.__name__)\n",
    "    mas_time = []\n",
    "    temp = 0.\n",
    "    for i in range(8):\n",
    "        temp = 0.\n",
    "        if a.__name__ == 'aho_corasick':\n",
    "            pat = [mas_pat[i]]\n",
    "        else:\n",
    "            pat = mas_pat[i]\n",
    "        for j in range(10):\n",
    "            temp += check_time(a, mas_text[i], pat)\n",
    "        print(\"Test N\", i+1, \"time:\", temp/10)\n",
    "    print('')"
   ]
  },
  {
   "cell_type": "markdown",
   "metadata": {},
   "source": [
    "# comparison counter"
   ]
  },
  {
   "cell_type": "code",
   "execution_count": 40,
   "metadata": {
    "tags": []
   },
   "outputs": [
    {
     "name": "stdout",
     "output_type": "stream",
     "text": [
      "knuth_morris_pratt\n",
      "Test N 1 comparison count: 18 & positions:  [8]\n",
      "Test N 2 comparison count: 190 & positions:  [90]\n",
      "Test N 3 comparison count: 1900 & positions:  [900]\n",
      "Test N 4 comparison count: 9000 & positions:  [4000]\n",
      "Test N 5 comparison count: 697 & positions:  [599]\n",
      "Test N 6 comparison count: 1074 & positions:  [610]\n",
      "Test N 7 comparison count: 3150 & positions:  [1629]\n",
      "Test N 8 comparison count: 10623 & positions:  [9522]\n",
      "\n",
      "naive\n",
      "Test N 1 comparison count: 19 & positions:  [8]\n",
      "Test N 2 comparison count: 955 & positions:  [90]\n",
      "Test N 3 comparison count: 95050 & positions:  [900]\n",
      "Test N 4 comparison count: 4500500 & positions:  [4000]\n",
      "Test N 5 comparison count: 714 & positions:  [599]\n",
      "Test N 6 comparison count: 1158 & positions:  [610]\n",
      "Test N 7 comparison count: 3554 & positions:  [1629]\n",
      "Test N 8 comparison count: 10714 & positions:  [9522]\n",
      "\n",
      "aho_corasick\n",
      "Test N 1 comparison count: 18 & positions:  {'ab': [8]}\n",
      "Test N 2 comparison count: 190 & positions:  {'aaaaaaaaab': [90]}\n",
      "Test N 3 comparison count: 1900 & positions:  {'aaaaaaaaaaaaaaaaaaaaaaaaaaaaaaaaaaaaaaaaaaaaaaaaaaaaaaaaaaaaaaaaaaaaaaaaaaaaaaaaaaaaaaaaaaaaaaaaaaab': [900]}\n",
      "Test N 4 comparison count: 9000 & positions:  {'aaaaaaaaaaaaaaaaaaaaaaaaaaaaaaaaaaaaaaaaaaaaaaaaaaaaaaaaaaaaaaaaaaaaaaaaaaaaaaaaaaaaaaaaaaaaaaaaaaaaaaaaaaaaaaaaaaaaaaaaaaaaaaaaaaaaaaaaaaaaaaaaaaaaaaaaaaaaaaaaaaaaaaaaaaaaaaaaaaaaaaaaaaaaaaaaaaaaaaaaaaaaaaaaaaaaaaaaaaaaaaaaaaaaaaaaaaaaaaaaaaaaaaaaaaaaaaaaaaaaaaaaaaaaaaaaaaaaaaaaaaaaaaaaaaaaaaaaaaaaaaaaaaaaaaaaaaaaaaaaaaaaaaaaaaaaaaaaaaaaaaaaaaaaaaaaaaaaaaaaaaaaaaaaaaaaaaaaaaaaaaaaaaaaaaaaaaaaaaaaaaaaaaaaaaaaaaaaaaaaaaaaaaaaaaaaaaaaaaaaaaaaaaaaaaaaaaaaaaaaaaaaaaaaaaaaaaaaaaaaaaaaaaaaaaaaaaaaaaaaaaaaaaaaaaaaaaaaaaaaaaaaaaaaaaaaaaaaaaaaaaaaaaaaaaaaaaaaaaaaaaaaaaaaaaaaaaaaaaaaaaaaaaaaaaaaaaaaaaaaaaaaaaaaaaaaaaaaaaaaaaaaaaaaaaaaaaaaaaaaaaaaaaaaaaaaaaaaaaaaaaaaaaaaaaaaaaaaaaaaaaaaaaaaaaaaaaaaaaaaaaaaaaaaaaaaaaaaaaaaaaaaaaaaaaaaaaaaaaaaaaaaaaaaaaaaaaaaaaaaaaaaaaaaaaaaaaaaaaaaaaaaaaaaaaaaaaaaaaaaaaaaaaaaaaaaaaaaaaaaaaaaaaaaaaaaaaaaaaaaaaaaaaaaaaaaaaaaaaaaaaaaaaaaaaaaaaaaaaaaaaaaaaaaaaaaaaaaaaaaaaaaaaaaaaaaaaaaaaaaaaaaaaaaaaaaaaaaaaaaaaaaaaaaaaaaaaaaaaaaaaaaaaaaaaaaaaaaaaaaaaaaaaaaaaaaaaaaaaab': [4000]}\n",
      "Test N 5 comparison count: 714 & positions:  {'сын князя Василия': [599]}\n",
      "Test N 6 comparison count: 1159 & positions:  {'Да, я слышал про его план вечного мира, и это очень интересно, но едва ли возможно...': [610]}\n",
      "Test N 7 comparison count: 3540 & positions:  {'вспоминал свое обещание, но тут же, как это бывает с людьми, называемыми бесхарактерными, ему так страстно захотелось войти взглянуть еще раз на эту столь знакомую и надоевшую ему беспутную жизнь, и невольно пришла в голову мысль, что данное слово ничего не значит, к тому же, еще прежде, чем князю Андрею, он дал также Анатолю слово привезти долг; наконец, он подумал, что все эти': [1629]}\n",
      "Test N 8 comparison count: 10715 & positions:  {'Бутылка рому была принесена; раму, не пускавшую сесть на наружный откос окна, выламывали два': [9522]}\n",
      "\n",
      "boyer_moore_horspool\n",
      "Test N 1 comparison count: 31 & positions:  [8]\n",
      "Test N 2 comparison count: 293 & positions:  [90]\n",
      "Test N 3 comparison count: 2903 & positions:  [900]\n",
      "Test N 4 comparison count: 14003 & positions:  [4000]\n",
      "Test N 5 comparison count: 231 & positions:  [599]\n",
      "Test N 6 comparison count: 283 & positions:  [610]\n",
      "Test N 7 comparison count: 987 & positions:  [1629]\n",
      "Test N 8 comparison count: 1520 & positions:  [9522]\n",
      "\n",
      "rabin_karp\n",
      "Test N 1 comparison count: 29 & positions:  [8]\n",
      "Test N 2 comparison count: 283 & positions:  [90]\n",
      "Test N 3 comparison count: 2803 & positions:  [900]\n",
      "Test N 4 comparison count: 13003 & positions:  [4000]\n",
      "Test N 5 comparison count: 2053 & positions:  [599]\n",
      "Test N 6 comparison count: 3325 & positions:  [610]\n",
      "Test N 7 comparison count: 9607 & positions:  [1629]\n",
      "Test N 8 comparison count: 32193 & positions:  [9522]\n",
      "\n"
     ]
    }
   ],
   "source": [
    "for a in algorithms:\n",
    "    print(a.__name__)\n",
    "    for i in range(8):\n",
    "        if a.__name__ == 'aho_corasick':\n",
    "            pat = [mas_pat[i]]\n",
    "        else:\n",
    "            pat = mas_pat[i]\n",
    "        #print(pat)\n",
    "        ans, comp = a(mas_text[i], pat)\n",
    "        print(\"Test N\", i+1, \"comparison count:\", comp, \"& positions: \", ans)\n",
    "    print('')"
   ]
  },
  {
   "cell_type": "code",
   "execution_count": null,
   "metadata": {},
   "outputs": [],
   "source": []
  }
 ],
 "metadata": {
  "kernelspec": {
   "display_name": "Python 3",
   "language": "python",
   "name": "python3"
  },
  "language_info": {
   "codemirror_mode": {
    "name": "ipython",
    "version": 3
   },
   "file_extension": ".py",
   "mimetype": "text/x-python",
   "name": "python",
   "nbconvert_exporter": "python",
   "pygments_lexer": "ipython3",
   "version": "3.8.3"
  }
 },
 "nbformat": 4,
 "nbformat_minor": 4
}
