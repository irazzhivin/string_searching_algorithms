{
 "cells": [
  {
   "cell_type": "markdown",
   "metadata": {},
   "source": [
    "String-searching algorithms realization by Ivan Razzhivin:\n",
    "1. Boyer-Moore-Horspool; \n",
    "2. Karp–Rabin; \n",
    "3. Knuth–Morris–Pratt; \n",
    "4. Aho–Corasick;\n",
    "5. Naive Pattern Searching;"
   ]
  }
 ],
 "metadata": {
  "kernelspec": {
   "display_name": "Python 3",
   "language": "python",
   "name": "python3"
  },
  "language_info": {
   "codemirror_mode": {
    "name": "ipython",
    "version": 3
   },
   "file_extension": ".py",
   "mimetype": "text/x-python",
   "name": "python",
   "nbconvert_exporter": "python",
   "pygments_lexer": "ipython3",
   "version": "3.8.3"
  }
 },
 "nbformat": 4,
 "nbformat_minor": 4
}
